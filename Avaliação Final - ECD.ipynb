{
 "cells": [
  {
   "cell_type": "markdown",
   "metadata": {},
   "source": [
    "### Importando as bibliotecas e a base de dados"
   ]
  },
  {
   "cell_type": "code",
   "execution_count": 1,
   "metadata": {},
   "outputs": [],
   "source": [
    "#importando as bibliotecas\n",
    "import pandas as pd\n",
    "import numpy as np\n",
    "from scipy.stats import beta\n",
    "from math import *\n",
    "from scipy.stats import norm\n",
    "%matplotlib inline\n",
    "import matplotlib.pyplot as plt\n",
    "from scipy import stats\n",
    "import statsmodels.formula.api as smf\n",
    "import statistics\n",
    "import seaborn as sns\n",
    "from scipy.stats import kurtosis\n",
    "from scipy.stats import skew\n",
    "from scipy.stats import shapiro"
   ]
  },
  {
   "cell_type": "code",
   "execution_count": 2,
   "metadata": {},
   "outputs": [
    {
     "name": "stdout",
     "output_type": "stream",
     "text": [
      "(237, 4)\n"
     ]
    },
    {
     "data": {
      "text/html": [
       "<div>\n",
       "<style scoped>\n",
       "    .dataframe tbody tr th:only-of-type {\n",
       "        vertical-align: middle;\n",
       "    }\n",
       "\n",
       "    .dataframe tbody tr th {\n",
       "        vertical-align: top;\n",
       "    }\n",
       "\n",
       "    .dataframe thead th {\n",
       "        text-align: right;\n",
       "    }\n",
       "</style>\n",
       "<table border=\"1\" class=\"dataframe\">\n",
       "  <thead>\n",
       "    <tr style=\"text-align: right;\">\n",
       "      <th></th>\n",
       "      <th>Homem</th>\n",
       "      <th>Acima45</th>\n",
       "      <th>Tamanho</th>\n",
       "      <th>Peso</th>\n",
       "    </tr>\n",
       "  </thead>\n",
       "  <tbody>\n",
       "    <tr>\n",
       "      <th>0</th>\n",
       "      <td>1</td>\n",
       "      <td>0</td>\n",
       "      <td>4512</td>\n",
       "      <td>1530</td>\n",
       "    </tr>\n",
       "    <tr>\n",
       "      <th>1</th>\n",
       "      <td>1</td>\n",
       "      <td>0</td>\n",
       "      <td>3738</td>\n",
       "      <td>1297</td>\n",
       "    </tr>\n",
       "    <tr>\n",
       "      <th>2</th>\n",
       "      <td>1</td>\n",
       "      <td>0</td>\n",
       "      <td>4261</td>\n",
       "      <td>1335</td>\n",
       "    </tr>\n",
       "    <tr>\n",
       "      <th>3</th>\n",
       "      <td>1</td>\n",
       "      <td>0</td>\n",
       "      <td>3777</td>\n",
       "      <td>1282</td>\n",
       "    </tr>\n",
       "    <tr>\n",
       "      <th>4</th>\n",
       "      <td>1</td>\n",
       "      <td>0</td>\n",
       "      <td>4177</td>\n",
       "      <td>1590</td>\n",
       "    </tr>\n",
       "  </tbody>\n",
       "</table>\n",
       "</div>"
      ],
      "text/plain": [
       "   Homem  Acima45  Tamanho  Peso\n",
       "0      1        0     4512  1530\n",
       "1      1        0     3738  1297\n",
       "2      1        0     4261  1335\n",
       "3      1        0     3777  1282\n",
       "4      1        0     4177  1590"
      ]
     },
     "execution_count": 2,
     "metadata": {},
     "output_type": "execute_result"
    }
   ],
   "source": [
    "#fazendo o upload do dataset, exibindo o total de linhas e colunas, e as primeiras 5 linhas\n",
    "df = pd.read_csv('Brain.csv')\n",
    "print(df.shape)\n",
    "df.head()"
   ]
  },
  {
   "cell_type": "code",
   "execution_count": 3,
   "metadata": {},
   "outputs": [
    {
     "data": {
      "text/html": [
       "<div>\n",
       "<style scoped>\n",
       "    .dataframe tbody tr th:only-of-type {\n",
       "        vertical-align: middle;\n",
       "    }\n",
       "\n",
       "    .dataframe tbody tr th {\n",
       "        vertical-align: top;\n",
       "    }\n",
       "\n",
       "    .dataframe thead th {\n",
       "        text-align: right;\n",
       "    }\n",
       "</style>\n",
       "<table border=\"1\" class=\"dataframe\">\n",
       "  <thead>\n",
       "    <tr style=\"text-align: right;\">\n",
       "      <th></th>\n",
       "      <th>Acima45</th>\n",
       "      <th>Tamanho</th>\n",
       "      <th>Peso</th>\n",
       "    </tr>\n",
       "    <tr>\n",
       "      <th>Homem</th>\n",
       "      <th></th>\n",
       "      <th></th>\n",
       "      <th></th>\n",
       "    </tr>\n",
       "  </thead>\n",
       "  <tbody>\n",
       "    <tr>\n",
       "      <th>0</th>\n",
       "      <td>103</td>\n",
       "      <td>103</td>\n",
       "      <td>103</td>\n",
       "    </tr>\n",
       "    <tr>\n",
       "      <th>1</th>\n",
       "      <td>134</td>\n",
       "      <td>134</td>\n",
       "      <td>134</td>\n",
       "    </tr>\n",
       "  </tbody>\n",
       "</table>\n",
       "</div>"
      ],
      "text/plain": [
       "       Acima45  Tamanho  Peso\n",
       "Homem                        \n",
       "0          103      103   103\n",
       "1          134      134   134"
      ]
     },
     "execution_count": 3,
     "metadata": {},
     "output_type": "execute_result"
    }
   ],
   "source": [
    "#verificando a quantidade de valores por gênero\n",
    "df.groupby('Homem').count()"
   ]
  },
  {
   "cell_type": "code",
   "execution_count": 4,
   "metadata": {},
   "outputs": [
    {
     "data": {
      "text/html": [
       "<div>\n",
       "<style scoped>\n",
       "    .dataframe tbody tr th:only-of-type {\n",
       "        vertical-align: middle;\n",
       "    }\n",
       "\n",
       "    .dataframe tbody tr th {\n",
       "        vertical-align: top;\n",
       "    }\n",
       "\n",
       "    .dataframe thead th {\n",
       "        text-align: right;\n",
       "    }\n",
       "</style>\n",
       "<table border=\"1\" class=\"dataframe\">\n",
       "  <thead>\n",
       "    <tr style=\"text-align: right;\">\n",
       "      <th></th>\n",
       "      <th>Homem</th>\n",
       "      <th>Tamanho</th>\n",
       "      <th>Peso</th>\n",
       "    </tr>\n",
       "    <tr>\n",
       "      <th>Acima45</th>\n",
       "      <th></th>\n",
       "      <th></th>\n",
       "      <th></th>\n",
       "    </tr>\n",
       "  </thead>\n",
       "  <tbody>\n",
       "    <tr>\n",
       "      <th>0</th>\n",
       "      <td>110</td>\n",
       "      <td>110</td>\n",
       "      <td>110</td>\n",
       "    </tr>\n",
       "    <tr>\n",
       "      <th>1</th>\n",
       "      <td>127</td>\n",
       "      <td>127</td>\n",
       "      <td>127</td>\n",
       "    </tr>\n",
       "  </tbody>\n",
       "</table>\n",
       "</div>"
      ],
      "text/plain": [
       "         Homem  Tamanho  Peso\n",
       "Acima45                      \n",
       "0          110      110   110\n",
       "1          127      127   127"
      ]
     },
     "execution_count": 4,
     "metadata": {},
     "output_type": "execute_result"
    }
   ],
   "source": [
    "#verificando a quantidade de valores por grupo etário\n",
    "df.groupby('Acima45').count()"
   ]
  },
  {
   "cell_type": "code",
   "execution_count": 5,
   "metadata": {},
   "outputs": [
    {
     "data": {
      "text/html": [
       "<div>\n",
       "<style scoped>\n",
       "    .dataframe tbody tr th:only-of-type {\n",
       "        vertical-align: middle;\n",
       "    }\n",
       "\n",
       "    .dataframe tbody tr th {\n",
       "        vertical-align: top;\n",
       "    }\n",
       "\n",
       "    .dataframe thead th {\n",
       "        text-align: right;\n",
       "    }\n",
       "</style>\n",
       "<table border=\"1\" class=\"dataframe\">\n",
       "  <thead>\n",
       "    <tr style=\"text-align: right;\">\n",
       "      <th></th>\n",
       "      <th>count</th>\n",
       "      <th>mean</th>\n",
       "      <th>std</th>\n",
       "      <th>min</th>\n",
       "      <th>25%</th>\n",
       "      <th>50%</th>\n",
       "      <th>75%</th>\n",
       "      <th>max</th>\n",
       "    </tr>\n",
       "  </thead>\n",
       "  <tbody>\n",
       "    <tr>\n",
       "      <th>Homem</th>\n",
       "      <td>237.0</td>\n",
       "      <td>0.565401</td>\n",
       "      <td>0.496753</td>\n",
       "      <td>0.0</td>\n",
       "      <td>0.0</td>\n",
       "      <td>1.0</td>\n",
       "      <td>1.0</td>\n",
       "      <td>1.0</td>\n",
       "    </tr>\n",
       "    <tr>\n",
       "      <th>Acima45</th>\n",
       "      <td>237.0</td>\n",
       "      <td>0.535865</td>\n",
       "      <td>0.499768</td>\n",
       "      <td>0.0</td>\n",
       "      <td>0.0</td>\n",
       "      <td>1.0</td>\n",
       "      <td>1.0</td>\n",
       "      <td>1.0</td>\n",
       "    </tr>\n",
       "    <tr>\n",
       "      <th>Tamanho</th>\n",
       "      <td>237.0</td>\n",
       "      <td>3633.991561</td>\n",
       "      <td>365.261422</td>\n",
       "      <td>2720.0</td>\n",
       "      <td>3389.0</td>\n",
       "      <td>3614.0</td>\n",
       "      <td>3876.0</td>\n",
       "      <td>4747.0</td>\n",
       "    </tr>\n",
       "    <tr>\n",
       "      <th>Peso</th>\n",
       "      <td>237.0</td>\n",
       "      <td>1282.873418</td>\n",
       "      <td>120.340446</td>\n",
       "      <td>955.0</td>\n",
       "      <td>1207.0</td>\n",
       "      <td>1280.0</td>\n",
       "      <td>1350.0</td>\n",
       "      <td>1635.0</td>\n",
       "    </tr>\n",
       "  </tbody>\n",
       "</table>\n",
       "</div>"
      ],
      "text/plain": [
       "         count         mean         std     min     25%     50%     75%  \\\n",
       "Homem    237.0     0.565401    0.496753     0.0     0.0     1.0     1.0   \n",
       "Acima45  237.0     0.535865    0.499768     0.0     0.0     1.0     1.0   \n",
       "Tamanho  237.0  3633.991561  365.261422  2720.0  3389.0  3614.0  3876.0   \n",
       "Peso     237.0  1282.873418  120.340446   955.0  1207.0  1280.0  1350.0   \n",
       "\n",
       "            max  \n",
       "Homem       1.0  \n",
       "Acima45     1.0  \n",
       "Tamanho  4747.0  \n",
       "Peso     1635.0  "
      ]
     },
     "execution_count": 5,
     "metadata": {},
     "output_type": "execute_result"
    }
   ],
   "source": [
    "#mostrando algumas estatísticas do conjunto de dados\n",
    "df.describe().T"
   ]
  },
  {
   "cell_type": "markdown",
   "metadata": {},
   "source": [
    "### 1) Há diferença no peso cerebral entre os sexos? E entre os grupos etários?"
   ]
  },
  {
   "cell_type": "code",
   "execution_count": 6,
   "metadata": {},
   "outputs": [
    {
     "name": "stdout",
     "output_type": "stream",
     "text": [
      "Moda:  ModeResult(mode=array([1350], dtype=int64), count=array([8]))\n",
      "\n",
      "\n",
      "Amplitude:  680\n",
      "Variância:  14420.718154141974\n",
      "Coef Variação: % 9.380539352057902\n"
     ]
    }
   ],
   "source": [
    "#algumas métricas da variável Peso\n",
    "print('Moda: ',stats.mode(df['Peso']))\n",
    "print('\\n')\n",
    "print('Amplitude: ', df['Peso'].max() - df['Peso'].min())\n",
    "print('Variância: ', np.var(df['Peso']))\n",
    "print('Coef Variação: %', df['Peso'].std() / df['Peso'].mean() *100)"
   ]
  },
  {
   "cell_type": "code",
   "execution_count": 7,
   "metadata": {},
   "outputs": [
    {
     "name": "stdout",
     "output_type": "stream",
     "text": [
      "Estatística de Peso para HOMENS\n"
     ]
    },
    {
     "data": {
      "text/plain": [
       "count     134.000000\n",
       "mean     1331.858209\n",
       "std       108.933390\n",
       "min      1120.000000\n",
       "25%      1252.750000\n",
       "50%      1313.500000\n",
       "75%      1400.000000\n",
       "max      1635.000000\n",
       "Name: Peso, dtype: float64"
      ]
     },
     "execution_count": 7,
     "metadata": {},
     "output_type": "execute_result"
    }
   ],
   "source": [
    "#algumas métricas da variável Peso\n",
    "print('Estatística de Peso para HOMENS')\n",
    "df.Peso[(df.Homem == 1)].describe().T"
   ]
  },
  {
   "cell_type": "code",
   "execution_count": 8,
   "metadata": {},
   "outputs": [
    {
     "name": "stdout",
     "output_type": "stream",
     "text": [
      "Estatística de Peso para MULHERES\n"
     ]
    },
    {
     "data": {
      "text/plain": [
       "count     103.000000\n",
       "mean     1219.145631\n",
       "std       103.829933\n",
       "min       955.000000\n",
       "25%      1146.000000\n",
       "50%      1220.000000\n",
       "75%      1290.000000\n",
       "max      1520.000000\n",
       "Name: Peso, dtype: float64"
      ]
     },
     "execution_count": 8,
     "metadata": {},
     "output_type": "execute_result"
    }
   ],
   "source": [
    "print('Estatística de Peso para MULHERES')\n",
    "df.Peso[(df.Homem == 0)].describe().T"
   ]
  },
  {
   "cell_type": "code",
   "execution_count": 9,
   "metadata": {},
   "outputs": [
    {
     "name": "stdout",
     "output_type": "stream",
     "text": [
      "Estatística de Peso para GRUPO ETÁRIO ATÉ 45 ANOS\n"
     ]
    },
    {
     "data": {
      "text/plain": [
       "count     110.000000\n",
       "mean     1304.736364\n",
       "std       116.409959\n",
       "min      1027.000000\n",
       "25%      1227.500000\n",
       "50%      1301.000000\n",
       "75%      1370.750000\n",
       "max      1635.000000\n",
       "Name: Peso, dtype: float64"
      ]
     },
     "execution_count": 9,
     "metadata": {},
     "output_type": "execute_result"
    }
   ],
   "source": [
    "print('Estatística de Peso para GRUPO ETÁRIO ATÉ 45 ANOS')\n",
    "df.Peso[(df.Acima45 == 0)].describe().T"
   ]
  },
  {
   "cell_type": "code",
   "execution_count": 10,
   "metadata": {},
   "outputs": [
    {
     "name": "stdout",
     "output_type": "stream",
     "text": [
      "Estatística de Peso para GRUPO ETÁRIA ACIMA DE 45 ANOS\n"
     ]
    },
    {
     "data": {
      "text/plain": [
       "count     127.000000\n",
       "mean     1263.937008\n",
       "std       120.925712\n",
       "min       955.000000\n",
       "25%      1180.000000\n",
       "50%      1250.000000\n",
       "75%      1332.500000\n",
       "max      1620.000000\n",
       "Name: Peso, dtype: float64"
      ]
     },
     "execution_count": 10,
     "metadata": {},
     "output_type": "execute_result"
    }
   ],
   "source": [
    "print('Estatística de Peso para GRUPO ETÁRIA ACIMA DE 45 ANOS')\n",
    "df.Peso[(df.Acima45 == 1)].describe().T"
   ]
  },
  {
   "cell_type": "code",
   "execution_count": 11,
   "metadata": {
    "scrolled": false
   },
   "outputs": [
    {
     "data": {
      "text/plain": [
       "<matplotlib.axes._subplots.AxesSubplot at 0x22f85402128>"
      ]
     },
     "execution_count": 11,
     "metadata": {},
     "output_type": "execute_result"
    },
    {
     "data": {
      "image/png": "[encoded data removed]",
      "text/plain": [
       "<Figure size 864x360 with 1 Axes>"
      ]
     },
     "metadata": {
      "needs_background": "light"
     },
     "output_type": "display_data"
    },
    {
     "data": {
      "image/png": "[encoded data removed]",
      "text/plain": [
       "<Figure size 864x360 with 1 Axes>"
      ]
     },
     "metadata": {
      "needs_background": "light"
     },
     "output_type": "display_data"
    }
   ],
   "source": [
    "#exibindo o boxplot de peso por gênero e por grupo etário\n",
    "plt.figure(figsize=(12,5))\n",
    "plt.title(\"Peso por GÊNERO\")\n",
    "sns.boxplot(y=\"Homem\", x=\"Peso\", data = df, orient=\"h\", palette = 'ch:2.5,-.2,dark=.3')\n",
    "\n",
    "plt.figure(figsize=(12,5))\n",
    "plt.title(\"Peso por GRUPO ETÁRIO\")\n",
    "sns.boxplot(y=\"Acima45\", x=\"Peso\", data = df, orient=\"h\", palette = 'ch:9.5,-.2,dark=.2')"
   ]
  },
  {
   "cell_type": "code",
   "execution_count": 12,
   "metadata": {},
   "outputs": [
    {
     "data": {
      "image/png": "[encoded data removed]",
      "text/plain": [
       "<Figure size 432x288 with 1 Axes>"
      ]
     },
     "metadata": {
      "needs_background": "light"
     },
     "output_type": "display_data"
    }
   ],
   "source": [
    "#1º passo: verificando a normalidade dos dados, assumindo que as amostras são independentes entre si\n",
    "#Histogramas\n",
    "\n",
    "#histograma de peso\n",
    "sns.distplot(df['Peso'], bins = 10, hist=True, color='gray', label='Peso')\n",
    "plt.show()"
   ]
  },
  {
   "cell_type": "code",
   "execution_count": 13,
   "metadata": {},
   "outputs": [
    {
     "data": {
      "image/png": "[encoded data removed]",
      "text/plain": [
       "<Figure size 500x400 with 1 Axes>"
      ]
     },
     "metadata": {
      "needs_background": "light"
     },
     "output_type": "display_data"
    }
   ],
   "source": [
    "#histograma de frequência de peso entre grupos etários\n",
    "plt.subplots(figsize=(5,4), dpi=100)\n",
    "sns.distplot(df.Peso[(df.Acima45 == 1)], color=\"dodgerblue\", label=\"Acima de 45\")\n",
    "sns.distplot(df.Peso[(df.Acima45 == 0)], color=\"steelblue\", label=\"Até 45\")\n",
    "\n",
    "plt.xlabel(\"Distribuição de Pesos entre Grupos Etários\", fontsize=12)\n",
    "plt.ylabel(\"densidade\")\n",
    "plt.legend();"
   ]
  },
  {
   "cell_type": "code",
   "execution_count": 14,
   "metadata": {
    "scrolled": true
   },
   "outputs": [
    {
     "data": {
      "image/png": "[encoded data removed]",
      "text/plain": [
       "<Figure size 500x400 with 1 Axes>"
      ]
     },
     "metadata": {
      "needs_background": "light"
     },
     "output_type": "display_data"
    }
   ],
   "source": [
    "#histograma de frequência de peso entre gêneros\n",
    "plt.subplots(figsize=(5,4), dpi=100)\n",
    "sns.distplot(df.Peso[(df.Homem == 1)], color=\"indigo\", label=\"Homens\")\n",
    "sns.distplot(df.Peso[(df.Homem == 0)], color=\"darkblue\", label=\"Mulheres\")\n",
    "\n",
    "plt.xlabel(\"Distribuição de Pesos entre Gêneros\", fontsize=12)\n",
    "plt.ylabel(\"densidade\")\n",
    "plt.legend();"
   ]
  },
  {
   "cell_type": "code",
   "execution_count": 15,
   "metadata": {},
   "outputs": [
    {
     "name": "stdout",
     "output_type": "stream",
     "text": [
      "Curtose e Simetria da Variável Peso como um todo:\n",
      "excess kurtosis of normal distribution (should be 0): 0.1747067992701643\n",
      "skewness of normal distribution (should be 0): 0.26379436775638915\n"
     ]
    }
   ],
   "source": [
    "#Calculando a simetria e a curtose para verificar se os dados de Peso são normalmente distribuídos\n",
    "print('Curtose e Simetria da Variável Peso como um todo:')\n",
    "print('excess kurtosis of normal distribution (should be 0): {}'.format(kurtosis(df['Peso'])))\n",
    "print('skewness of normal distribution (should be 0): {}'.format(skew(df['Peso'])))"
   ]
  },
  {
   "cell_type": "code",
   "execution_count": 16,
   "metadata": {},
   "outputs": [
    {
     "name": "stdout",
     "output_type": "stream",
     "text": [
      "Curtose e Simetria da Variável Peso para Homens:\n",
      "excess kurtosis of normal distribution (should be 0): 0.010969534528364466\n",
      "skewness of normal distribution (should be 0): 0.505879498073933\n",
      "\n",
      "\n",
      "Curtose e Simetria da Variável Peso para Mulheres:\n",
      "excess kurtosis of normal distribution (should be 0): -0.07878729038540255\n",
      "skewness of normal distribution (should be 0): 0.0952960762484772\n"
     ]
    }
   ],
   "source": [
    "#Normalidade dos pesos por gênero\n",
    "\n",
    "#homens\n",
    "print('Curtose e Simetria da Variável Peso para Homens:')\n",
    "print('excess kurtosis of normal distribution (should be 0): {}'.format(kurtosis(df.Peso[(df.Homem == 1)])))\n",
    "print('skewness of normal distribution (should be 0): {}'.format(skew(df.Peso[(df.Homem == 1)])))\n",
    "print('\\n')\n",
    "#mulheres\n",
    "print('Curtose e Simetria da Variável Peso para Mulheres:')\n",
    "print('excess kurtosis of normal distribution (should be 0): {}'.format(kurtosis(df.Peso[(df.Homem == 0)])))\n",
    "print('skewness of normal distribution (should be 0): {}'.format(skew(df.Peso[(df.Homem == 0)])))"
   ]
  },
  {
   "cell_type": "code",
   "execution_count": 17,
   "metadata": {},
   "outputs": [
    {
     "name": "stdout",
     "output_type": "stream",
     "text": [
      "Curtose e Simetria da Variável Peso para pessoas Acima de 45 anos:\n",
      "excess kurtosis of normal distribution (should be 0): 0.19377058116223456\n",
      "skewness of normal distribution (should be 0): 0.27995083100232226\n",
      "\n",
      "\n",
      "Curtose e Simetria da Variável Peso para pessoas Até 45 anos:\n",
      "excess kurtosis of normal distribution (should be 0): 0.16968890041766604\n",
      "skewness of normal distribution (should be 0): 0.31339011504403247\n"
     ]
    }
   ],
   "source": [
    "#Normalidade dos pesos por grupo etário\n",
    "\n",
    "#Acima de 45 anos\n",
    "print('Curtose e Simetria da Variável Peso para pessoas Acima de 45 anos:')\n",
    "print('excess kurtosis of normal distribution (should be 0): {}'.format(kurtosis(df.Peso[(df.Acima45 == 1)])))\n",
    "print('skewness of normal distribution (should be 0): {}'.format(skew(df.Peso[(df.Acima45 == 1)])))\n",
    "print('\\n')\n",
    "#Até 45 anos\n",
    "print('Curtose e Simetria da Variável Peso para pessoas Até 45 anos:')\n",
    "print('excess kurtosis of normal distribution (should be 0): {}'.format(kurtosis(df.Peso[(df.Acima45 == 0)])))\n",
    "print('skewness of normal distribution (should be 0): {}'.format(skew(df.Peso[(df.Acima45 == 0)])))"
   ]
  },
  {
   "cell_type": "code",
   "execution_count": 18,
   "metadata": {
    "scrolled": true
   },
   "outputs": [
    {
     "name": "stdout",
     "output_type": "stream",
     "text": [
      "Teste de Normalidade Shapiro-Wilk para a variável \"Peso\":\n",
      "stat=0.993, p=0.323\n",
      "Probably Gaussian\n"
     ]
    }
   ],
   "source": [
    "#Realizando mais um teste para atestar a distribuição normal dos dados\n",
    "#Shapiro-Wilk Normality Test\n",
    "print('Teste de Normalidade Shapiro-Wilk para a variável \"Peso\":')\n",
    "data = df['Peso']\n",
    "stat, p = shapiro(data)\n",
    "print('stat=%.3f, p=%.3f' % (stat, p))\n",
    "if p > 0.05:\n",
    "    print('Probably Gaussian')\n",
    "else:\n",
    "    print('Probably not Gaussian')"
   ]
  },
  {
   "cell_type": "code",
   "execution_count": 19,
   "metadata": {},
   "outputs": [
    {
     "name": "stdout",
     "output_type": "stream",
     "text": [
      "Teste de Normalidade Shapiro-Wilk para a variável \"Peso para Homens\":\n",
      "stat=0.98, p=0.03\n",
      "Probably not Gaussian\n",
      "\n",
      "\n",
      "Teste de Normalidade Shapiro-Wilk para a variável \"Peso para Mulheres\":\n",
      "stat=1.00, p=0.99\n",
      "Probably Gaussian\n"
     ]
    }
   ],
   "source": [
    "#Realizando mais um teste para atestar a distribuição normal dos dados\n",
    "#Shapiro-Wilk para peso e por gênero\n",
    "\n",
    "print('Teste de Normalidade Shapiro-Wilk para a variável \"Peso para Homens\":')\n",
    "data = df.Peso[(df.Homem == 1)]\n",
    "stat, p = shapiro(data)\n",
    "print('stat=%.2f, p=%.2f' % (stat, p))\n",
    "if p > 0.05:\n",
    "    print('Probably Gaussian')\n",
    "else:\n",
    "    print('Probably not Gaussian')\n",
    "\n",
    "print('\\n')\n",
    "print('Teste de Normalidade Shapiro-Wilk para a variável \"Peso para Mulheres\":')\n",
    "data1 = df.Peso[(df.Homem == 0)]\n",
    "stat, p = shapiro(data1)\n",
    "print('stat=%.2f, p=%.2f' % (stat, p))\n",
    "if p > 0.05:\n",
    "    print('Probably Gaussian')\n",
    "else:\n",
    "    print('Probably not Gaussian')"
   ]
  },
  {
   "cell_type": "code",
   "execution_count": 20,
   "metadata": {},
   "outputs": [
    {
     "name": "stdout",
     "output_type": "stream",
     "text": [
      "Teste de Normalidade Shapiro-Wilk para a variável \"Peso Acima de 45 Anos\":\n",
      "stat=0.99, p=0.66\n",
      "Probably Gaussian\n",
      "\n",
      "\n",
      "Teste de Normalidade Shapiro-Wilk para a variável \"Peso Até 45 Anos\":\n",
      "stat=0.99, p=0.42\n",
      "Probably Gaussian\n"
     ]
    }
   ],
   "source": [
    "#Realizando mais um teste para atestar a distribuição normal dos dados\n",
    "#Shapiro-Wilk para peso e por grupo etário\n",
    "\n",
    "print('Teste de Normalidade Shapiro-Wilk para a variável \"Peso Acima de 45 Anos\":')\n",
    "data = df.Peso[(df.Acima45 == 1)]\n",
    "stat, p = shapiro(data)\n",
    "print('stat=%.2f, p=%.2f' % (stat, p))\n",
    "if p > 0.05:\n",
    "    print('Probably Gaussian')\n",
    "else:\n",
    "    print('Probably not Gaussian')\n",
    "\n",
    "print('\\n')\n",
    "print('Teste de Normalidade Shapiro-Wilk para a variável \"Peso Até 45 Anos\":')\n",
    "data1 = df.Peso[(df.Acima45 == 0)]\n",
    "stat, p = shapiro(data1)\n",
    "print('stat=%.2f, p=%.2f' % (stat, p))\n",
    "if p > 0.05:\n",
    "    print('Probably Gaussian')\n",
    "else:\n",
    "    print('Probably not Gaussian')"
   ]
  },
  {
   "cell_type": "code",
   "execution_count": 21,
   "metadata": {},
   "outputs": [
    {
     "name": "stdout",
     "output_type": "stream",
     "text": [
      "stat=3.39, p=0.18\n",
      "Probably Gaussian\n"
     ]
    }
   ],
   "source": [
    "#Teste de normalidade para a variável peso\n",
    "#D'Agostino's K^2 Normality Test\n",
    "from scipy.stats import normaltest\n",
    "data = df['Peso']\n",
    "stat, p = normaltest(data)\n",
    "print('stat=%.2f, p=%.2f' % (stat, p))\n",
    "if p > 0.05:\n",
    "    print('Probably Gaussian')\n",
    "else:\n",
    "    print('Probably not Gaussian')"
   ]
  },
  {
   "cell_type": "code",
   "execution_count": 22,
   "metadata": {},
   "outputs": [
    {
     "name": "stdout",
     "output_type": "stream",
     "text": [
      "Teste de Normalidade D'Agostino's K^2 para a variável 'Peso para Homens':\n",
      "stat=5.81, p=0.05\n",
      "Probably Gaussian\n",
      "\n",
      "\n",
      "Teste de Normalidade D'Agostino's K^2 para a variável 'Peso para Mulheres':\n",
      "stat=0.19, p=0.91\n",
      "Probably Gaussian\n"
     ]
    }
   ],
   "source": [
    "#Realizando mais um teste para atestar a distribuição normal dos dados\n",
    "#D'Agostino's K^2 Normality Test para peso e por gênero\n",
    "\n",
    "print(\"Teste de Normalidade D'Agostino's K^2 para a variável 'Peso para Homens':\")\n",
    "data = df.Peso[(df.Homem == 1)]\n",
    "stat, p = normaltest(data)\n",
    "print('stat=%.2f, p=%.2f' % (stat, p))\n",
    "if p > 0.05:\n",
    "    print('Probably Gaussian')\n",
    "else:\n",
    "    print('Probably not Gaussian')\n",
    "\n",
    "print('\\n')\n",
    "print(\"Teste de Normalidade D'Agostino's K^2 para a variável 'Peso para Mulheres':\")\n",
    "data1 = df.Peso[(df.Homem == 0)]\n",
    "stat, p = normaltest(data1)\n",
    "print('stat=%.2f, p=%.2f' % (stat, p))\n",
    "if p > 0.05:\n",
    "    print('Probably Gaussian')\n",
    "else:\n",
    "    print('Probably not Gaussian')"
   ]
  },
  {
   "cell_type": "code",
   "execution_count": 23,
   "metadata": {},
   "outputs": [
    {
     "name": "stdout",
     "output_type": "stream",
     "text": [
      "Teste de Normalidade D'Agostino's K^2 para a variável 'Peso Acima de 45 Anos':\n",
      "stat=2.31, p=0.31\n",
      "Probably Gaussian\n",
      "\n",
      "\n",
      "Teste de Normalidade D'Agostino's K^2 para a variável 'Peso Até 45 Anos':\n",
      "stat=2.40, p=0.30\n",
      "Probably Gaussian\n"
     ]
    }
   ],
   "source": [
    "#D'Agostino's K^2 Normality Test para peso e por grupo etário\n",
    "print(\"Teste de Normalidade D'Agostino's K^2 para a variável 'Peso Acima de 45 Anos':\")\n",
    "data = df.Peso[(df.Acima45 == 1)]\n",
    "stat, p = normaltest(data)\n",
    "print('stat=%.2f, p=%.2f' % (stat, p))\n",
    "if p > 0.05:\n",
    "    print('Probably Gaussian')\n",
    "else:\n",
    "    print('Probably not Gaussian')\n",
    "\n",
    "print('\\n')\n",
    "print(\"Teste de Normalidade D'Agostino's K^2 para a variável 'Peso Até 45 Anos':\")\n",
    "data1 = df.Peso[(df.Acima45 == 0)]\n",
    "stat, p = normaltest(data1)\n",
    "print('stat=%.2f, p=%.2f' % (stat, p))\n",
    "if p > 0.05:\n",
    "    print('Probably Gaussian')\n",
    "else:\n",
    "    print('Probably not Gaussian')"
   ]
  },
  {
   "cell_type": "code",
   "execution_count": 24,
   "metadata": {},
   "outputs": [
    {
     "name": "stdout",
     "output_type": "stream",
     "text": [
      "stat=0.432\n",
      "Probably Gaussian at the 15.0% level\n",
      "Probably Gaussian at the 10.0% level\n",
      "Probably Gaussian at the 5.0% level\n",
      "Probably Gaussian at the 2.5% level\n",
      "Probably Gaussian at the 1.0% level\n"
     ]
    }
   ],
   "source": [
    "#Teste de normalidade para a variável peso\n",
    "from scipy.stats import anderson\n",
    "data = df.Peso\n",
    "result = anderson(data)\n",
    "print('stat=%.3f' % (result.statistic))\n",
    "for i in range(len(result.critical_values)):\n",
    "    sl, cv = result.significance_level[i], result.critical_values[i]\n",
    "    if result.statistic < cv:\n",
    "        print('Probably Gaussian at the %.1f%% level' % (sl))\n",
    "    else:\n",
    "        print('Probably not Gaussian at the %.1f%% level' % (sl))"
   ]
  },
  {
   "cell_type": "code",
   "execution_count": 25,
   "metadata": {},
   "outputs": [
    {
     "name": "stdout",
     "output_type": "stream",
     "text": [
      "Teste de Normalidade Anderson-Darling para a variável 'Peso para Homens':\n",
      "stat=0.759\n",
      "Probably not Gaussian at the 15.0% level\n",
      "Probably not Gaussian at the 10.0% level\n",
      "Probably Gaussian at the 5.0% level\n",
      "Probably Gaussian at the 2.5% level\n",
      "Probably Gaussian at the 1.0% level\n",
      "\n",
      "\n",
      "Teste de Normalidade Anderson-Darling para a variável 'Peso para Mulheres':\n",
      "stat=0.143\n",
      "Probably Gaussian at the 15.0% level\n",
      "Probably Gaussian at the 10.0% level\n",
      "Probably Gaussian at the 5.0% level\n",
      "Probably Gaussian at the 2.5% level\n",
      "Probably Gaussian at the 1.0% level\n"
     ]
    }
   ],
   "source": [
    "#Anderson-Darling Normality Test para peso e por gênero\n",
    "data = df.Peso[(df.Homem == 1)]\n",
    "result = anderson(data)\n",
    "print(\"Teste de Normalidade Anderson-Darling para a variável 'Peso para Homens':\")\n",
    "print('stat=%.3f' % (result.statistic))\n",
    "for i in range(len(result.critical_values)):\n",
    "    sl, cv = result.significance_level[i], result.critical_values[i]\n",
    "    if result.statistic < cv:\n",
    "        print('Probably Gaussian at the %.1f%% level' % (sl))\n",
    "    else:\n",
    "        print('Probably not Gaussian at the %.1f%% level' % (sl))\n",
    "print('\\n')        \n",
    "data1 = df.Peso[(df.Homem == 0)]\n",
    "result = anderson(data1)\n",
    "print(\"Teste de Normalidade Anderson-Darling para a variável 'Peso para Mulheres':\")\n",
    "print('stat=%.3f' % (result.statistic))\n",
    "for i in range(len(result.critical_values)):\n",
    "    sl, cv = result.significance_level[i], result.critical_values[i]\n",
    "    if result.statistic < cv:\n",
    "        print('Probably Gaussian at the %.1f%% level' % (sl))\n",
    "    else:\n",
    "        print('Probably not Gaussian at the %.1f%% level' % (sl))"
   ]
  },
  {
   "cell_type": "code",
   "execution_count": 26,
   "metadata": {},
   "outputs": [
    {
     "name": "stdout",
     "output_type": "stream",
     "text": [
      "Teste de NormalidadeAnderson-Darling para a variável 'Peso Acima de 45 Anos':\n",
      "stat=0.326\n",
      "Probably Gaussian at the 15.0% level\n",
      "Probably Gaussian at the 10.0% level\n",
      "Probably Gaussian at the 5.0% level\n",
      "Probably Gaussian at the 2.5% level\n",
      "Probably Gaussian at the 1.0% level\n",
      "\n",
      "\n",
      "Teste de Normalidade Anderson-Darling para a variável 'Peso Até de 45 Anos':\n",
      "stat=0.414\n",
      "Probably Gaussian at the 15.0% level\n",
      "Probably Gaussian at the 10.0% level\n",
      "Probably Gaussian at the 5.0% level\n",
      "Probably Gaussian at the 2.5% level\n",
      "Probably Gaussian at the 1.0% level\n"
     ]
    }
   ],
   "source": [
    "#Anderson-Darling Normality Test para peso e por grupo etário\n",
    "data = df.Peso[(df.Acima45 == 1)]\n",
    "result = anderson(data)\n",
    "print(\"Teste de NormalidadeAnderson-Darling para a variável 'Peso Acima de 45 Anos':\")\n",
    "print('stat=%.3f' % (result.statistic))\n",
    "for i in range(len(result.critical_values)):\n",
    "    sl, cv = result.significance_level[i], result.critical_values[i]\n",
    "    if result.statistic < cv:\n",
    "        print('Probably Gaussian at the %.1f%% level' % (sl))\n",
    "    else:\n",
    "        print('Probably not Gaussian at the %.1f%% level' % (sl))\n",
    "print('\\n')        \n",
    "data1 = df.Peso[(df.Acima45 == 0)]\n",
    "result = anderson(data1)\n",
    "print(\"Teste de Normalidade Anderson-Darling para a variável 'Peso Até de 45 Anos':\")\n",
    "print('stat=%.3f' % (result.statistic))\n",
    "for i in range(len(result.critical_values)):\n",
    "    sl, cv = result.significance_level[i], result.critical_values[i]\n",
    "    if result.statistic < cv:\n",
    "        print('Probably Gaussian at the %.1f%% level' % (sl))\n",
    "    else:\n",
    "        print('Probably not Gaussian at the %.1f%% level' % (sl))"
   ]
  },
  {
   "cell_type": "code",
   "execution_count": 27,
   "metadata": {},
   "outputs": [],
   "source": [
    "#2º passo: verificando se as amostras que queremos comparar possuem a mesma variância\n",
    "#criando um subset com valores médios dos pesos entre gêneros\n",
    "#df_peso_genero = df.pivot_table(index=\"Homem\",values=\"Peso\",aggfunc=(\"mean\"))\n",
    "#df_peso_genero.reset_index(inplace=True)\n",
    "#df_peso_genero.head()"
   ]
  },
  {
   "cell_type": "code",
   "execution_count": 28,
   "metadata": {},
   "outputs": [
    {
     "name": "stdout",
     "output_type": "stream",
     "text": [
      "A variância das médias de peso para Homens é 11777.93\n",
      "A variância das médias de peso para Mulheres é 10675.99\n"
     ]
    }
   ],
   "source": [
    "#verificando a variância das amostras por gênero\n",
    "data1 = df.Peso[(df.Homem == 1)]\n",
    "data2 = df.Peso[(df.Homem == 0)]\n",
    "\n",
    "print(\"A variância das médias de peso para Homens é %.2f\" % (np.std(data1)**2))\n",
    "print(\"A variância das médias de peso para Mulheres é %.2f\" % (np.std(data2)**2))"
   ]
  },
  {
   "cell_type": "code",
   "execution_count": 29,
   "metadata": {},
   "outputs": [
    {
     "data": {
      "text/plain": [
       "LeveneResult(statistic=0.08798545130505911, pvalue=0.767016022271913)"
      ]
     },
     "execution_count": 29,
     "metadata": {},
     "output_type": "execute_result"
    }
   ],
   "source": [
    "#teste Leve de igualdade de variâncias entre amostras\n",
    "stats.levene(data1,data2)\n",
    "\n",
    "#ou seja, com alpha=0.05, o teste Levene não descartou a hipótese H0, de igualdade das variâncias"
   ]
  },
  {
   "cell_type": "code",
   "execution_count": 30,
   "metadata": {},
   "outputs": [
    {
     "data": {
      "text/plain": [
       "Ttest_indResult(statistic=8.05765147908099, pvalue=3.919241152559185e-14)"
      ]
     },
     "execution_count": 30,
     "metadata": {},
     "output_type": "execute_result"
    }
   ],
   "source": [
    "# Teste t de Student (bicaudal) para média de duas populações Normais com variâncias iguais\n",
    "stats.ttest_ind(data1,data2)\n",
    "\n",
    "#ou seja, com alpha=0.05, o teste T de Student descartou a hipótese H0, de igualdade das médias"
   ]
  },
  {
   "cell_type": "code",
   "execution_count": 31,
   "metadata": {},
   "outputs": [
    {
     "name": "stdout",
     "output_type": "stream",
     "text": [
      "A variância das médias de peso para Acima de 45 anos é 14507.89\n",
      "A variância das médias de peso para Até 45 anos é 13428.09\n"
     ]
    }
   ],
   "source": [
    "#verificando a variância das amostras por grupo etário\n",
    "data3 = df.Peso[(df.Acima45 == 1)]\n",
    "data4 = df.Peso[(df.Acima45 == 0)]\n",
    "\n",
    "print(\"A variância das médias de peso para Acima de 45 anos é %.2f\" % (np.std(data3)**2))\n",
    "print(\"A variância das médias de peso para Até 45 anos é %.2f\" % (np.std(data4)**2))"
   ]
  },
  {
   "cell_type": "code",
   "execution_count": 32,
   "metadata": {},
   "outputs": [
    {
     "data": {
      "text/plain": [
       "LeveneResult(statistic=0.1572368955265971, pvalue=0.6920731219043006)"
      ]
     },
     "execution_count": 32,
     "metadata": {},
     "output_type": "execute_result"
    }
   ],
   "source": [
    "#teste Leve de igualdade de variâncias entre amostras\n",
    "stats.levene(data3,data4)\n",
    "#ou seja, o teste Levene não descartou a hipótese H0, de igualdade das variâncias"
   ]
  },
  {
   "cell_type": "code",
   "execution_count": 33,
   "metadata": {},
   "outputs": [
    {
     "data": {
      "text/plain": [
       "Ttest_indResult(statistic=-2.6355362085897975, pvalue=0.008959602315452554)"
      ]
     },
     "execution_count": 33,
     "metadata": {},
     "output_type": "execute_result"
    }
   ],
   "source": [
    "# Teste t de Student (bicaudal) para média de duas populações Normais com variâncias iguais\n",
    "stats.ttest_ind(data3,data4)\n",
    "\n",
    "#Ao considerar alpha=0.05 a Hipótese Nula H0 (igualdade de médias) pode ser rejeitada, \n",
    "#pois o valor p é menor que alpha"
   ]
  },
  {
   "cell_type": "markdown",
   "metadata": {},
   "source": [
    "### 2) O tamanho da cabeça é preditor do peso cerebral e, neste caso, há diferença nessa relação entre os sexos e entre os grupos etários?"
   ]
  },
  {
   "cell_type": "code",
   "execution_count": 34,
   "metadata": {},
   "outputs": [
    {
     "data": {
      "text/html": [
       "<div>\n",
       "<style scoped>\n",
       "    .dataframe tbody tr th:only-of-type {\n",
       "        vertical-align: middle;\n",
       "    }\n",
       "\n",
       "    .dataframe tbody tr th {\n",
       "        vertical-align: top;\n",
       "    }\n",
       "\n",
       "    .dataframe thead th {\n",
       "        text-align: right;\n",
       "    }\n",
       "</style>\n",
       "<table border=\"1\" class=\"dataframe\">\n",
       "  <thead>\n",
       "    <tr style=\"text-align: right;\">\n",
       "      <th></th>\n",
       "      <th>Homem</th>\n",
       "      <th>Acima45</th>\n",
       "      <th>Tamanho</th>\n",
       "      <th>Peso</th>\n",
       "    </tr>\n",
       "  </thead>\n",
       "  <tbody>\n",
       "    <tr>\n",
       "      <th>count</th>\n",
       "      <td>237.000000</td>\n",
       "      <td>237.000000</td>\n",
       "      <td>237.000000</td>\n",
       "      <td>237.000000</td>\n",
       "    </tr>\n",
       "    <tr>\n",
       "      <th>mean</th>\n",
       "      <td>0.565401</td>\n",
       "      <td>0.535865</td>\n",
       "      <td>3633.991561</td>\n",
       "      <td>1282.873418</td>\n",
       "    </tr>\n",
       "    <tr>\n",
       "      <th>std</th>\n",
       "      <td>0.496753</td>\n",
       "      <td>0.499768</td>\n",
       "      <td>365.261422</td>\n",
       "      <td>120.340446</td>\n",
       "    </tr>\n",
       "    <tr>\n",
       "      <th>min</th>\n",
       "      <td>0.000000</td>\n",
       "      <td>0.000000</td>\n",
       "      <td>2720.000000</td>\n",
       "      <td>955.000000</td>\n",
       "    </tr>\n",
       "    <tr>\n",
       "      <th>25%</th>\n",
       "      <td>0.000000</td>\n",
       "      <td>0.000000</td>\n",
       "      <td>3389.000000</td>\n",
       "      <td>1207.000000</td>\n",
       "    </tr>\n",
       "    <tr>\n",
       "      <th>50%</th>\n",
       "      <td>1.000000</td>\n",
       "      <td>1.000000</td>\n",
       "      <td>3614.000000</td>\n",
       "      <td>1280.000000</td>\n",
       "    </tr>\n",
       "    <tr>\n",
       "      <th>75%</th>\n",
       "      <td>1.000000</td>\n",
       "      <td>1.000000</td>\n",
       "      <td>3876.000000</td>\n",
       "      <td>1350.000000</td>\n",
       "    </tr>\n",
       "    <tr>\n",
       "      <th>max</th>\n",
       "      <td>1.000000</td>\n",
       "      <td>1.000000</td>\n",
       "      <td>4747.000000</td>\n",
       "      <td>1635.000000</td>\n",
       "    </tr>\n",
       "  </tbody>\n",
       "</table>\n",
       "</div>"
      ],
      "text/plain": [
       "            Homem     Acima45      Tamanho         Peso\n",
       "count  237.000000  237.000000   237.000000   237.000000\n",
       "mean     0.565401    0.535865  3633.991561  1282.873418\n",
       "std      0.496753    0.499768   365.261422   120.340446\n",
       "min      0.000000    0.000000  2720.000000   955.000000\n",
       "25%      0.000000    0.000000  3389.000000  1207.000000\n",
       "50%      1.000000    1.000000  3614.000000  1280.000000\n",
       "75%      1.000000    1.000000  3876.000000  1350.000000\n",
       "max      1.000000    1.000000  4747.000000  1635.000000"
      ]
     },
     "execution_count": 34,
     "metadata": {},
     "output_type": "execute_result"
    }
   ],
   "source": [
    "#exibindo algumas métricas\n",
    "df.describe()"
   ]
  },
  {
   "cell_type": "code",
   "execution_count": 35,
   "metadata": {},
   "outputs": [
    {
     "data": {
      "image/png": "[encoded data removed]",
      "text/plain": [
       "<Figure size 432x288 with 1 Axes>"
      ]
     },
     "metadata": {
      "needs_background": "light"
     },
     "output_type": "display_data"
    }
   ],
   "source": [
    "#scatter plot\n",
    "sns.scatterplot(x=df.Tamanho,y=df.Peso,data=df, color='b')\n",
    "plt.xlabel(\"Tamanho (cm³)\", fontsize=15)\n",
    "plt.ylabel(\"Peso (g)\", fontsize=15)\n",
    "plt.title('Dispersão entre Tamanho e Peso Cerebral',  fontsize=16)\n",
    "plt.show()"
   ]
  },
  {
   "cell_type": "markdown",
   "metadata": {},
   "source": [
    "#### Parece que existe uma associação linear positiva entre Peso e Tamanho."
   ]
  },
  {
   "cell_type": "code",
   "execution_count": 36,
   "metadata": {},
   "outputs": [
    {
     "data": {
      "text/html": [
       "<div>\n",
       "<style scoped>\n",
       "    .dataframe tbody tr th:only-of-type {\n",
       "        vertical-align: middle;\n",
       "    }\n",
       "\n",
       "    .dataframe tbody tr th {\n",
       "        vertical-align: top;\n",
       "    }\n",
       "\n",
       "    .dataframe thead th {\n",
       "        text-align: right;\n",
       "    }\n",
       "</style>\n",
       "<table border=\"1\" class=\"dataframe\">\n",
       "  <thead>\n",
       "    <tr style=\"text-align: right;\">\n",
       "      <th></th>\n",
       "      <th>Homem</th>\n",
       "      <th>Acima45</th>\n",
       "      <th>Tamanho</th>\n",
       "      <th>Peso</th>\n",
       "    </tr>\n",
       "  </thead>\n",
       "  <tbody>\n",
       "    <tr>\n",
       "      <th>Homem</th>\n",
       "      <td>1.000000</td>\n",
       "      <td>0.088652</td>\n",
       "      <td>0.514050</td>\n",
       "      <td>0.465266</td>\n",
       "    </tr>\n",
       "    <tr>\n",
       "      <th>Acima45</th>\n",
       "      <td>0.088652</td>\n",
       "      <td>1.000000</td>\n",
       "      <td>-0.105428</td>\n",
       "      <td>-0.169438</td>\n",
       "    </tr>\n",
       "    <tr>\n",
       "      <th>Tamanho</th>\n",
       "      <td>0.514050</td>\n",
       "      <td>-0.105428</td>\n",
       "      <td>1.000000</td>\n",
       "      <td>0.799570</td>\n",
       "    </tr>\n",
       "    <tr>\n",
       "      <th>Peso</th>\n",
       "      <td>0.465266</td>\n",
       "      <td>-0.169438</td>\n",
       "      <td>0.799570</td>\n",
       "      <td>1.000000</td>\n",
       "    </tr>\n",
       "  </tbody>\n",
       "</table>\n",
       "</div>"
      ],
      "text/plain": [
       "            Homem   Acima45   Tamanho      Peso\n",
       "Homem    1.000000  0.088652  0.514050  0.465266\n",
       "Acima45  0.088652  1.000000 -0.105428 -0.169438\n",
       "Tamanho  0.514050 -0.105428  1.000000  0.799570\n",
       "Peso     0.465266 -0.169438  0.799570  1.000000"
      ]
     },
     "execution_count": 36,
     "metadata": {},
     "output_type": "execute_result"
    }
   ],
   "source": [
    "#plotando a correlação entre as variáveis\n",
    "df.corr()"
   ]
  },
  {
   "cell_type": "code",
   "execution_count": 58,
   "metadata": {},
   "outputs": [
    {
     "data": {
      "image/png": "[encoded data removed]",
      "text/plain": [
       "<Figure size 432x288 with 2 Axes>"
      ]
     },
     "metadata": {
      "needs_background": "light"
     },
     "output_type": "display_data"
    }
   ],
   "source": [
    "sns.heatmap(df.corr(), cmap='bwr', vmax=1, vmin=-1,center=0, square=True, annot=True)\n",
    "plt.title('Correlação de Pearson',  fontsize=13)\n",
    "plt.show()"
   ]
  },
  {
   "cell_type": "code",
   "execution_count": 38,
   "metadata": {},
   "outputs": [
    {
     "name": "stdout",
     "output_type": "stream",
     "text": [
      "                            OLS Regression Results                            \n",
      "==============================================================================\n",
      "Dep. Variable:                df.Peso   R-squared:                       0.653\n",
      "Model:                            OLS   Adj. R-squared:                  0.648\n",
      "Method:                 Least Squares   F-statistic:                     146.0\n",
      "Date:                Sun, 21 Jun 2020   Prob (F-statistic):           2.94e-53\n",
      "Time:                        12:45:01   Log-Likelihood:                -1345.7\n",
      "No. Observations:                 237   AIC:                             2699.\n",
      "Df Residuals:                     233   BIC:                             2713.\n",
      "Df Model:                           3                                         \n",
      "Covariance Type:            nonrobust                                         \n",
      "==============================================================================\n",
      "                 coef    std err          t      P>|t|      [0.025      0.975]\n",
      "------------------------------------------------------------------------------\n",
      "Intercept    395.5079     52.999      7.463      0.000     291.090     499.926\n",
      "Homem         22.5433     11.058      2.039      0.043       0.757      44.329\n",
      "Acima45      -23.9684      9.481     -2.528      0.012     -42.647      -5.290\n",
      "Tamanho        0.2442      0.015     16.212      0.000       0.215       0.274\n",
      "==============================================================================\n",
      "Omnibus:                        7.989   Durbin-Watson:                   1.922\n",
      "Prob(Omnibus):                  0.018   Jarque-Bera (JB):                8.255\n",
      "Skew:                           0.357   Prob(JB):                       0.0161\n",
      "Kurtosis:                       3.571   Cond. No.                     4.20e+04\n",
      "==============================================================================\n",
      "\n",
      "Warnings:\n",
      "[1] Standard Errors assume that the covariance matrix of the errors is correctly specified.\n",
      "[2] The condition number is large, 4.2e+04. This might indicate that there are\n",
      "strong multicollinearity or other numerical problems.\n"
     ]
    }
   ],
   "source": [
    "from statsmodels.formula.api import ols\n",
    "\n",
    "#Ajusta o modelo de regressão linear múltipla com Peso como variável resposta, usando somente a interação\n",
    "#com a variável Tamanho\n",
    "mod = ols('df.Peso ~ Homem + Acima45 + Tamanho',data=df)\n",
    "res = mod.fit()\n",
    "print(res.summary())"
   ]
  },
  {
   "cell_type": "code",
   "execution_count": 39,
   "metadata": {},
   "outputs": [
    {
     "data": {
      "text/html": [
       "<div>\n",
       "<style scoped>\n",
       "    .dataframe tbody tr th:only-of-type {\n",
       "        vertical-align: middle;\n",
       "    }\n",
       "\n",
       "    .dataframe tbody tr th {\n",
       "        vertical-align: top;\n",
       "    }\n",
       "\n",
       "    .dataframe thead th {\n",
       "        text-align: right;\n",
       "    }\n",
       "</style>\n",
       "<table border=\"1\" class=\"dataframe\">\n",
       "  <thead>\n",
       "    <tr style=\"text-align: right;\">\n",
       "      <th></th>\n",
       "      <th>Homem</th>\n",
       "      <th>Acima45</th>\n",
       "      <th>Tamanho</th>\n",
       "      <th>Peso</th>\n",
       "      <th>Tamanho_Z</th>\n",
       "    </tr>\n",
       "  </thead>\n",
       "  <tbody>\n",
       "    <tr>\n",
       "      <th>0</th>\n",
       "      <td>1</td>\n",
       "      <td>0</td>\n",
       "      <td>4512</td>\n",
       "      <td>1530</td>\n",
       "      <td>0.433157</td>\n",
       "    </tr>\n",
       "    <tr>\n",
       "      <th>1</th>\n",
       "      <td>1</td>\n",
       "      <td>0</td>\n",
       "      <td>3738</td>\n",
       "      <td>1297</td>\n",
       "      <td>0.051312</td>\n",
       "    </tr>\n",
       "    <tr>\n",
       "      <th>2</th>\n",
       "      <td>1</td>\n",
       "      <td>0</td>\n",
       "      <td>4261</td>\n",
       "      <td>1335</td>\n",
       "      <td>0.309328</td>\n",
       "    </tr>\n",
       "    <tr>\n",
       "      <th>3</th>\n",
       "      <td>1</td>\n",
       "      <td>0</td>\n",
       "      <td>3777</td>\n",
       "      <td>1282</td>\n",
       "      <td>0.070552</td>\n",
       "    </tr>\n",
       "    <tr>\n",
       "      <th>4</th>\n",
       "      <td>1</td>\n",
       "      <td>0</td>\n",
       "      <td>4177</td>\n",
       "      <td>1590</td>\n",
       "      <td>0.267888</td>\n",
       "    </tr>\n",
       "  </tbody>\n",
       "</table>\n",
       "</div>"
      ],
      "text/plain": [
       "   Homem  Acima45  Tamanho  Peso  Tamanho_Z\n",
       "0      1        0     4512  1530   0.433157\n",
       "1      1        0     3738  1297   0.051312\n",
       "2      1        0     4261  1335   0.309328\n",
       "3      1        0     3777  1282   0.070552\n",
       "4      1        0     4177  1590   0.267888"
      ]
     },
     "execution_count": 39,
     "metadata": {},
     "output_type": "execute_result"
    }
   ],
   "source": [
    "#normalização das variável preditora com Z-Score\n",
    "df['Tamanho_Z'] = (df.Tamanho - df.Tamanho.mean()) / (df.Tamanho.max() - df.Tamanho.min())\n",
    "df.head()"
   ]
  },
  {
   "cell_type": "code",
   "execution_count": 40,
   "metadata": {},
   "outputs": [
    {
     "name": "stdout",
     "output_type": "stream",
     "text": [
      "                            OLS Regression Results                            \n",
      "==============================================================================\n",
      "Dep. Variable:                df.Peso   R-squared:                       0.216\n",
      "Model:                            OLS   Adj. R-squared:                  0.213\n",
      "Method:                 Least Squares   F-statistic:                     64.93\n",
      "Date:                Sun, 21 Jun 2020   Prob (F-statistic):           3.92e-14\n",
      "Time:                        12:45:01   Log-Likelihood:                -1442.2\n",
      "No. Observations:                 237   AIC:                             2888.\n",
      "Df Residuals:                     235   BIC:                             2895.\n",
      "Df Model:                           1                                         \n",
      "Covariance Type:            nonrobust                                         \n",
      "==============================================================================\n",
      "                 coef    std err          t      P>|t|      [0.025      0.975]\n",
      "------------------------------------------------------------------------------\n",
      "Intercept   1219.1456     10.518    115.908      0.000    1198.424    1239.868\n",
      "Homem        112.7126     13.988      8.058      0.000      85.154     140.271\n",
      "==============================================================================\n",
      "Omnibus:                        4.695   Durbin-Watson:                   1.835\n",
      "Prob(Omnibus):                  0.096   Jarque-Bera (JB):                4.635\n",
      "Skew:                           0.342   Prob(JB):                       0.0985\n",
      "Kurtosis:                       2.983   Cond. No.                         2.80\n",
      "==============================================================================\n",
      "\n",
      "Warnings:\n",
      "[1] Standard Errors assume that the covariance matrix of the errors is correctly specified.\n"
     ]
    }
   ],
   "source": [
    "#Ajusta o modelo de regressão linear múltipla com Peso como variável resposta\n",
    "mod = ols('df.Peso ~ Homem',data=df)\n",
    "res = mod.fit()\n",
    "print(res.summary())"
   ]
  },
  {
   "cell_type": "code",
   "execution_count": 41,
   "metadata": {},
   "outputs": [
    {
     "name": "stdout",
     "output_type": "stream",
     "text": [
      "                            OLS Regression Results                            \n",
      "==============================================================================\n",
      "Dep. Variable:                df.Peso   R-squared:                       0.029\n",
      "Model:                            OLS   Adj. R-squared:                  0.025\n",
      "Method:                 Least Squares   F-statistic:                     6.946\n",
      "Date:                Sun, 21 Jun 2020   Prob (F-statistic):            0.00896\n",
      "Time:                        12:45:01   Log-Likelihood:                -1467.6\n",
      "No. Observations:                 237   AIC:                             2939.\n",
      "Df Residuals:                     235   BIC:                             2946.\n",
      "Df Model:                           1                                         \n",
      "Covariance Type:            nonrobust                                         \n",
      "==============================================================================\n",
      "                 coef    std err          t      P>|t|      [0.025      0.975]\n",
      "------------------------------------------------------------------------------\n",
      "Intercept   1304.7364     11.332    115.136      0.000    1282.411    1327.062\n",
      "Acima45      -40.7994     15.480     -2.636      0.009     -71.298     -10.301\n",
      "==============================================================================\n",
      "Omnibus:                        4.123   Durbin-Watson:                   1.507\n",
      "Prob(Omnibus):                  0.127   Jarque-Bera (JB):                3.780\n",
      "Skew:                           0.295   Prob(JB):                        0.151\n",
      "Kurtosis:                       3.188   Cond. No.                         2.71\n",
      "==============================================================================\n",
      "\n",
      "Warnings:\n",
      "[1] Standard Errors assume that the covariance matrix of the errors is correctly specified.\n"
     ]
    }
   ],
   "source": [
    "#Ajusta o modelo de regressão linear múltipla com Peso como variável resposta\n",
    "mod = ols('df.Peso ~ Acima45',data=df)\n",
    "res = mod.fit()\n",
    "print(res.summary())"
   ]
  },
  {
   "cell_type": "code",
   "execution_count": 42,
   "metadata": {},
   "outputs": [
    {
     "name": "stdout",
     "output_type": "stream",
     "text": [
      "                            OLS Regression Results                            \n",
      "==============================================================================\n",
      "Dep. Variable:                df.Peso   R-squared:                       0.639\n",
      "Model:                            OLS   Adj. R-squared:                  0.638\n",
      "Method:                 Least Squares   F-statistic:                     416.5\n",
      "Date:                Sun, 21 Jun 2020   Prob (F-statistic):           5.96e-54\n",
      "Time:                        12:45:01   Log-Likelihood:                -1350.3\n",
      "No. Observations:                 237   AIC:                             2705.\n",
      "Df Residuals:                     235   BIC:                             2711.\n",
      "Df Model:                           1                                         \n",
      "Covariance Type:            nonrobust                                         \n",
      "==============================================================================\n",
      "                 coef    std err          t      P>|t|      [0.025      0.975]\n",
      "------------------------------------------------------------------------------\n",
      "Intercept   1282.8734      4.705    272.683      0.000    1273.605    1292.142\n",
      "Tamanho_Z    533.9713     26.163     20.409      0.000     482.427     585.516\n",
      "==============================================================================\n",
      "Omnibus:                        8.329   Durbin-Watson:                   1.843\n",
      "Prob(Omnibus):                  0.016   Jarque-Bera (JB):                8.665\n",
      "Skew:                           0.366   Prob(JB):                       0.0131\n",
      "Kurtosis:                       3.584   Cond. No.                         5.56\n",
      "==============================================================================\n",
      "\n",
      "Warnings:\n",
      "[1] Standard Errors assume that the covariance matrix of the errors is correctly specified.\n"
     ]
    }
   ],
   "source": [
    "#Ajusta o modelo de regressão linear múltipla com Peso como variável resposta\n",
    "mod = ols('df.Peso ~ Tamanho_Z',data=df)\n",
    "res = mod.fit()\n",
    "print(res.summary())"
   ]
  },
  {
   "cell_type": "code",
   "execution_count": 43,
   "metadata": {},
   "outputs": [
    {
     "name": "stdout",
     "output_type": "stream",
     "text": [
      "                            OLS Regression Results                            \n",
      "==============================================================================\n",
      "Dep. Variable:                df.Peso   R-squared:                       0.654\n",
      "Model:                            OLS   Adj. R-squared:                  0.648\n",
      "Method:                 Least Squares   F-statistic:                     109.4\n",
      "Date:                Sun, 21 Jun 2020   Prob (F-statistic):           3.05e-52\n",
      "Time:                        12:45:01   Log-Likelihood:                -1345.5\n",
      "No. Observations:                 237   AIC:                             2701.\n",
      "Df Residuals:                     232   BIC:                             2718.\n",
      "Df Model:                           4                                         \n",
      "Covariance Type:            nonrobust                                         \n",
      "=================================================================================\n",
      "                    coef    std err          t      P>|t|      [0.025      0.975]\n",
      "---------------------------------------------------------------------------------\n",
      "Intercept      1279.4246     10.115    126.490      0.000    1259.496    1299.353\n",
      "Homem            29.3947     14.867      1.977      0.049       0.102      58.687\n",
      "Acima45         -16.7010     14.174     -1.178      0.240     -44.627      11.225\n",
      "Homem:Acima45   -12.9934     18.821     -0.690      0.491     -50.075      24.088\n",
      "Tamanho_Z       494.8391     30.569     16.188      0.000     434.611     555.067\n",
      "==============================================================================\n",
      "Omnibus:                        8.591   Durbin-Watson:                   1.928\n",
      "Prob(Omnibus):                  0.014   Jarque-Bera (JB):                9.071\n",
      "Skew:                           0.367   Prob(JB):                       0.0107\n",
      "Kurtosis:                       3.616   Cond. No.                         9.40\n",
      "==============================================================================\n",
      "\n",
      "Warnings:\n",
      "[1] Standard Errors assume that the covariance matrix of the errors is correctly specified.\n"
     ]
    }
   ],
   "source": [
    "#Ajusta o modelo de regressão linear múltipla com Peso como variável resposta, usando somente a interação\n",
    "#com a vriável Tamanho\n",
    "mod = ols('df.Peso ~ Homem * Acima45 + Tamanho_Z',data=df)\n",
    "res = mod.fit()\n",
    "print(res.summary())"
   ]
  },
  {
   "cell_type": "code",
   "execution_count": 44,
   "metadata": {},
   "outputs": [
    {
     "name": "stdout",
     "output_type": "stream",
     "text": [
      "                            OLS Regression Results                            \n",
      "==============================================================================\n",
      "Dep. Variable:                df.Peso   R-squared:                       0.653\n",
      "Model:                            OLS   Adj. R-squared:                  0.648\n",
      "Method:                 Least Squares   F-statistic:                     146.0\n",
      "Date:                Sun, 21 Jun 2020   Prob (F-statistic):           2.94e-53\n",
      "Time:                        12:45:01   Log-Likelihood:                -1345.7\n",
      "No. Observations:                 237   AIC:                             2699.\n",
      "Df Residuals:                     233   BIC:                             2713.\n",
      "Df Model:                           3                                         \n",
      "Covariance Type:            nonrobust                                         \n",
      "==============================================================================\n",
      "                 coef    std err          t      P>|t|      [0.025      0.975]\n",
      "------------------------------------------------------------------------------\n",
      "Intercept   1282.9713      8.703    147.412      0.000    1265.824    1300.118\n",
      "Homem         22.5433     11.058      2.039      0.043       0.757      44.329\n",
      "Acima45      -23.9684      9.481     -2.528      0.012     -42.647      -5.290\n",
      "Tamanho_Z    495.0172     30.534     16.212      0.000     434.860     555.174\n",
      "==============================================================================\n",
      "Omnibus:                        7.989   Durbin-Watson:                   1.922\n",
      "Prob(Omnibus):                  0.018   Jarque-Bera (JB):                8.255\n",
      "Skew:                           0.357   Prob(JB):                       0.0161\n",
      "Kurtosis:                       3.571   Cond. No.                         8.86\n",
      "==============================================================================\n",
      "\n",
      "Warnings:\n",
      "[1] Standard Errors assume that the covariance matrix of the errors is correctly specified.\n"
     ]
    }
   ],
   "source": [
    "#Ajusta o modelo de regressão linear múltipla com Peso como variável resposta, usando somente a interação\n",
    "#com a vriável Tamanho\n",
    "mod = ols('df.Peso ~ Homem + Acima45 + Tamanho_Z',data=df)\n",
    "res = mod.fit()\n",
    "print(res.summary())"
   ]
  },
  {
   "cell_type": "markdown",
   "metadata": {},
   "source": [
    "Modelo | Variáveis                                        | AIC   | BIC   | $$R^2_a$$\n",
    "-------|--------------------------------------------------|-------|-------|-------\n",
    "1      | Homem, Acima45, Tamanho_Z, sem interações        | 2699  | 2713  | 65,3%\n",
    "2      | Homem * Acima45, Tamanho_Z                       | 2701  | 2718  | 65,4%\n",
    "3      | Tamanho                                          | 2705  | 2711  | 63,9%\n",
    "4      | Homem                                            | 2888  | 2895  | 21,6%\n",
    "5      | Acima45                                          | 2939  | 2946  | 2,9%"
   ]
  },
  {
   "cell_type": "code",
   "execution_count": 45,
   "metadata": {},
   "outputs": [
    {
     "data": {
      "text/plain": [
       "5092.320159230041"
      ]
     },
     "execution_count": 45,
     "metadata": {},
     "output_type": "execute_result"
    }
   ],
   "source": [
    "#como o modelo 'df.Peso ~ Homem + Acima45 + Tamanho_Z' com todas as interações apresentou maior desempenho, \n",
    "#vou analisar os resíduos\n",
    "res.mse_resid"
   ]
  },
  {
   "cell_type": "code",
   "execution_count": 46,
   "metadata": {},
   "outputs": [],
   "source": [
    "# valores preditos de E(Y)\n",
    "ypred=res.fittedvalues\n",
    "\n",
    "# resíduo=observado-ajustado\n",
    "residuo = res.resid\n",
    "\n",
    "# objeto para a análise de pontos influentes\n",
    "infl = res.get_influence()\n",
    "\n",
    "# diagonal da matriz hat\n",
    "hii = infl.hat_matrix_diag\n",
    "\n",
    "# resíduo studentizado (internamente)\n",
    "res_stud = infl.resid_studentized_internal\n",
    "\n",
    "# resíduo studentizado com i-ésima observação deletada (externamente)\n",
    "res_stud_del = infl.resid_studentized_external\n",
    "\n",
    "# DFFITS\n",
    "(dffits,p) = infl.dffits\n",
    "\n",
    "# Distância de Cook\n",
    "(cook,p) = infl.cooks_distance"
   ]
  },
  {
   "cell_type": "code",
   "execution_count": 47,
   "metadata": {},
   "outputs": [
    {
     "data": {
      "image/png": "[encoded data removed]",
      "text/plain": [
       "<Figure size 432x288 with 3 Axes>"
      ]
     },
     "metadata": {
      "needs_background": "light"
     },
     "output_type": "display_data"
    }
   ],
   "source": [
    "fig, (ax1, ax2, ax3) = plt.subplots(3)\n",
    "ax1.scatter(ypred, residuo)\n",
    "ax1.set_ylabel('$y-\\hat{y}$')\n",
    "ax1.set_title('Resíduos')\n",
    "ax1.hlines(0,xmin=min(ypred),xmax=max(ypred),color='gray')\n",
    "ax2.scatter(ypred, res_stud)\n",
    "ax2.set_ylabel('studentizado')\n",
    "ax2.hlines(0,xmin=min(ypred),xmax=max(ypred),color='gray')\n",
    "ax3.scatter(ypred, res_stud_del)\n",
    "ax3.set_ylabel('studentizado -(i)')\n",
    "ax3.hlines(0,xmin=min(ypred),xmax=max(ypred),color='gray')\n",
    "ax3.set_xlabel('$\\hat{Y}$')\n",
    "\n",
    "for ax in fig.get_axes():\n",
    "    ax.label_outer()"
   ]
  },
  {
   "cell_type": "code",
   "execution_count": 48,
   "metadata": {},
   "outputs": [
    {
     "data": {
      "image/png": "[encoded data removed]",
      "text/plain": [
       "<Figure size 432x288 with 3 Axes>"
      ]
     },
     "metadata": {
      "needs_background": "light"
     },
     "output_type": "display_data"
    }
   ],
   "source": [
    "fig, (ax1, ax2, ax3) = plt.subplots(3)\n",
    "ax1.scatter(df.index, dffits)\n",
    "ax1.set_ylabel('DFFITS')\n",
    "ax1.set_title('Detecção de pontos influentes')\n",
    "ax1.hlines(0,xmin=1,xmax=102,color='gray')\n",
    "ax2.scatter(df.index, cook)\n",
    "ax2.set_ylabel('distância de Cook')\n",
    "ax3.scatter(df.index, hii)\n",
    "ax3.set_ylabel('$h_{ii}$')\n",
    "ax3.set_xlabel('índice')\n",
    "\n",
    "for ax in fig.get_axes():\n",
    "    ax.label_outer()"
   ]
  },
  {
   "cell_type": "code",
   "execution_count": 49,
   "metadata": {},
   "outputs": [
    {
     "data": {
      "image/png": "[encoded data removed]",
      "text/plain": [
       "<Figure size 432x288 with 1 Axes>"
      ]
     },
     "execution_count": 49,
     "metadata": {},
     "output_type": "execute_result"
    },
    {
     "data": {
      "image/png": "[encoded data removed]",
      "text/plain": [
       "<Figure size 432x288 with 1 Axes>"
      ]
     },
     "metadata": {
      "needs_background": "light"
     },
     "output_type": "display_data"
    }
   ],
   "source": [
    "import statsmodels.api as sm\n",
    "\n",
    "# Gráficos dos resíduos\n",
    "sm.graphics.influence_plot(res)"
   ]
  },
  {
   "cell_type": "code",
   "execution_count": 50,
   "metadata": {},
   "outputs": [
    {
     "data": {
      "image/png": "[encoded data removed]",
      "text/plain": [
       "<Figure size 432x288 with 1 Axes>"
      ]
     },
     "metadata": {
      "needs_background": "light"
     },
     "output_type": "display_data"
    }
   ],
   "source": [
    "stats.probplot(residuo, plot=plt)\n",
    "plt.xlabel('quantis teóricos')\n",
    "plt.ylabel('resíduos ordenados')\n",
    "plt.show()"
   ]
  },
  {
   "cell_type": "markdown",
   "metadata": {},
   "source": [
    "### 3) Estime o peso médio do cérebro de homens e de mulheres (pontual e intervalar)."
   ]
  },
  {
   "cell_type": "code",
   "execution_count": 51,
   "metadata": {},
   "outputs": [],
   "source": [
    "#para o estimador pontual\n",
    "peso_homem_pontual = df.Peso[(df.Homem == 1)].mean()\n",
    "peso_mulher_pontual = df.Peso[(df.Homem == 0)].mean()"
   ]
  },
  {
   "cell_type": "code",
   "execution_count": 52,
   "metadata": {},
   "outputs": [
    {
     "name": "stdout",
     "output_type": "stream",
     "text": [
      "Estimador Pontual Peso Homem:  1331.858208955224\n"
     ]
    }
   ],
   "source": [
    "print('Estimador Pontual Peso Homem: ', peso_homem_pontual)"
   ]
  },
  {
   "cell_type": "code",
   "execution_count": 53,
   "metadata": {},
   "outputs": [
    {
     "name": "stdout",
     "output_type": "stream",
     "text": [
      "Estimador Pontual Peso Mulher:  1219.1456310679612\n"
     ]
    }
   ],
   "source": [
    "print('Estimador Pontual Peso Mulher: ', peso_mulher_pontual)"
   ]
  },
  {
   "cell_type": "code",
   "execution_count": 54,
   "metadata": {},
   "outputs": [],
   "source": [
    "#estimador intervalar\n",
    "peso_homem = df.Peso[(df.Homem == 1)]\n",
    "peso_mulher = df.Peso[(df.Homem == 0)]"
   ]
  },
  {
   "cell_type": "code",
   "execution_count": 55,
   "metadata": {},
   "outputs": [
    {
     "name": "stdout",
     "output_type": "stream",
     "text": [
      "Estimador Intervalar Peso Homem:\n"
     ]
    },
    {
     "data": {
      "text/plain": [
       "(1313.2447792718747, 1350.4716386385733)"
      ]
     },
     "execution_count": 55,
     "metadata": {},
     "output_type": "execute_result"
    }
   ],
   "source": [
    "#estimador intervalar peso homem\n",
    "print('Estimador Intervalar Peso Homem:')\n",
    "stats.t.interval(0.95, len(peso_homem)-1, loc=np.mean(peso_homem), scale=stats.sem(peso_homem))"
   ]
  },
  {
   "cell_type": "code",
   "execution_count": 56,
   "metadata": {},
   "outputs": [
    {
     "name": "stdout",
     "output_type": "stream",
     "text": [
      "Estimador Intervalar Peso Mulher:\n"
     ]
    },
    {
     "data": {
      "text/plain": [
       "(1198.8531509366069, 1239.4381111993155)"
      ]
     },
     "execution_count": 56,
     "metadata": {},
     "output_type": "execute_result"
    }
   ],
   "source": [
    "#estimador intervalar peso mulher\n",
    "print('Estimador Intervalar Peso Mulher:')\n",
    "stats.t.interval(0.95, len(peso_mulher)-1, loc=np.mean(peso_mulher), scale=stats.sem(peso_mulher))"
   ]
  },
  {
   "cell_type": "markdown",
   "metadata": {},
   "source": [
    "|Estimador de Peso Cerebral| |   |\n",
    "|--------|---|---|\n",
    "|Gênero | Pontual |Intervalar|\n",
    "|Homem | 1331.858 |1313.244 ~ 1350.471|\n",
    "|Mulher | 1219.145 | 1198.853 ~ 1239.438|\n"
   ]
  },
  {
   "cell_type": "markdown",
   "metadata": {},
   "source": [
    "### Como é possível notar, ambos os estimadores pontuais estão dentro dos intervalos estimados"
   ]
  },
  {
   "cell_type": "code",
   "execution_count": null,
   "metadata": {},
   "outputs": [],
   "source": []
  }
 ],
 "metadata": {
  "kernelspec": {
   "display_name": "Python 3",
   "language": "python",
   "name": "python3"
  },
  "language_info": {
   "codemirror_mode": {
    "name": "ipython",
    "version": 3
   },
   "file_extension": ".py",
   "mimetype": "text/x-python",
   "name": "python",
   "nbconvert_exporter": "python",
   "pygments_lexer": "ipython3",
   "version": "3.8.3"
  }
 },
 "nbformat": 4,
 "nbformat_minor": 4
}
